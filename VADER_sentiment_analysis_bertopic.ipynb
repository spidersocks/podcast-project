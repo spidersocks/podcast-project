{
 "cells": [
  {
   "cell_type": "markdown",
   "id": "1b02f5ac",
   "metadata": {},
   "source": [
    "## Import Packages and Load Data"
   ]
  },
  {
   "cell_type": "code",
   "execution_count": 1,
   "id": "e66d40b0",
   "metadata": {},
   "outputs": [],
   "source": [
    "#%pip install vaderSentiment"
   ]
  },
  {
   "cell_type": "code",
   "execution_count": 6,
   "id": "b26a4f47",
   "metadata": {},
   "outputs": [],
   "source": [
    "from vaderSentiment.vaderSentiment import SentimentIntensityAnalyzer\n",
    "import pandas as pd\n",
    "import pandas as pd\n",
    "import os\n",
    "import glob\n",
    "from pathlib import Path\n",
    "from tqdm import tqdm\n",
    "tqdm.pandas()"
   ]
  },
  {
   "cell_type": "code",
   "execution_count": 3,
   "id": "b6d50a27",
   "metadata": {},
   "outputs": [],
   "source": [
    "df = pd.read_csv('data/bertopic_results.csv')"
   ]
  },
  {
   "cell_type": "markdown",
   "id": "79feaa01",
   "metadata": {},
   "source": [
    "## VADER Sentiment Analysis"
   ]
  },
  {
   "cell_type": "code",
   "execution_count": 8,
   "id": "b2294cc8",
   "metadata": {},
   "outputs": [],
   "source": [
    "def vader_analysis(text):\n",
    "    if pd.isna(text) or text == '' or text == 'nan':\n",
    "        return 'neutral', 0.0\n",
    "    \n",
    "    text = str(text)\n",
    "\n",
    "    analyzer = SentimentIntensityAnalyzer()\n",
    "    \n",
    "    try:\n",
    "        scores = analyzer.polarity_scores(text)\n",
    "        compound_score = scores['compound']\n",
    "        \n",
    "        if compound_score >= 0.05:\n",
    "            sentiment = 'positive'\n",
    "        elif compound_score <= -0.05:\n",
    "            sentiment = 'negative'\n",
    "        else:\n",
    "            sentiment = 'neutral'\n",
    "            \n",
    "        return sentiment, compound_score\n",
    "            \n",
    "    except Exception as e:\n",
    "        print(f\"Error processing text: {e}\")\n",
    "        return 'neutral', 0.0"
   ]
  },
  {
   "cell_type": "markdown",
   "id": "d6f0f9e2",
   "metadata": {},
   "source": [
    "## Add VADER Sentiment and Scores to BERTopic Results DataFrame"
   ]
  },
  {
   "cell_type": "code",
   "execution_count": 9,
   "id": "a0bca42c",
   "metadata": {},
   "outputs": [
    {
     "name": "stderr",
     "output_type": "stream",
     "text": [
      "100%|██████████████████████████████████| 402415/402415 [38:27<00:00, 174.36it/s]\n"
     ]
    }
   ],
   "source": [
    "df[['sentiment', 'score']] = df['text'].progress_apply(\n",
    "    lambda x: pd.Series(vader_analysis(' '.join(x) if isinstance(x, list) else str(x))))\n"
   ]
  },
  {
   "cell_type": "code",
   "execution_count": 10,
   "id": "ec1664ec",
   "metadata": {},
   "outputs": [
    {
     "name": "stdout",
     "output_type": "stream",
     "text": [
      "                                            filename source_type  \\\n",
      "0  data/podcasts/armchair-expert-with-dax-shepard...     podcast   \n",
      "1  data/podcasts/armchair-expert-with-dax-shepard...     podcast   \n",
      "2  data/podcasts/armchair-expert-with-dax-shepard...     podcast   \n",
      "3  data/podcasts/armchair-expert-with-dax-shepard...     podcast   \n",
      "4  data/podcasts/armchair-expert-with-dax-shepard...     podcast   \n",
      "\n",
      "                        source_name  \\\n",
      "0  Armchair Expert With Dax Shepard   \n",
      "1  Armchair Expert With Dax Shepard   \n",
      "2  Armchair Expert With Dax Shepard   \n",
      "3  Armchair Expert With Dax Shepard   \n",
      "4  Armchair Expert With Dax Shepard   \n",
      "\n",
      "                                               title publish_date  chunk_id  \\\n",
      "0  Acquired Podcast on the NFL (with Ben Gilbert ...   2025-02-05         0   \n",
      "1  Acquired Podcast on the NFL (with Ben Gilbert ...   2025-02-05         1   \n",
      "2  Acquired Podcast on the NFL (with Ben Gilbert ...   2025-02-05         2   \n",
      "3  Acquired Podcast on the NFL (with Ben Gilbert ...   2025-02-05         3   \n",
      "4  Acquired Podcast on the NFL (with Ben Gilbert ...   2025-02-05         4   \n",
      "\n",
      "                                                text  topic  probability  \\\n",
      "0  Wondery Plus subscribers can listen to Armchai...     -1     0.000000   \n",
      "1  been in the Costco religion I know for years. ...    167     0.818274   \n",
      "2  great item. It's when you regret loaning it ou...    167     0.572303   \n",
      "3  don't have one. That's the whole point. I just...   1799     0.780156   \n",
      "4  any rate, it's really, really great to have yo...     -1     0.000000   \n",
      "\n",
      "  sentiment   score  \n",
      "0  positive  0.9968  \n",
      "1  positive  0.9941  \n",
      "2  positive  0.9870  \n",
      "3  positive  0.9923  \n",
      "4  positive  0.9872  \n"
     ]
    }
   ],
   "source": [
    "print(df.head())"
   ]
  },
  {
   "cell_type": "code",
   "execution_count": 11,
   "id": "fbc950bf",
   "metadata": {},
   "outputs": [
    {
     "name": "stdout",
     "output_type": "stream",
     "text": [
      "positive    320039\n",
      "negative     80844\n",
      "neutral       1532\n",
      "Name: sentiment, dtype: int64\n"
     ]
    }
   ],
   "source": [
    "sentiment_vader = df['sentiment'].value_counts()\n",
    "\n",
    "print(sentiment_vader)\n"
   ]
  },
  {
   "cell_type": "markdown",
   "id": "d39eceb6",
   "metadata": {},
   "source": [
    "## Save to CSV"
   ]
  },
  {
   "cell_type": "code",
   "execution_count": 12,
   "id": "bc5f370f",
   "metadata": {},
   "outputs": [],
   "source": [
    "df.to_csv('data/sentiment_analysis_vader.csv', index=False)"
   ]
  }
 ],
 "metadata": {
  "kernelspec": {
   "display_name": "Python 3 (ipykernel)",
   "language": "python",
   "name": "python3"
  },
  "language_info": {
   "codemirror_mode": {
    "name": "ipython",
    "version": 3
   },
   "file_extension": ".py",
   "mimetype": "text/x-python",
   "name": "python",
   "nbconvert_exporter": "python",
   "pygments_lexer": "ipython3",
   "version": "3.12.7"
  }
 },
 "nbformat": 4,
 "nbformat_minor": 5
}
