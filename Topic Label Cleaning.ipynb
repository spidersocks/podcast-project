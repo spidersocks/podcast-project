{
 "cells": [
  {
   "cell_type": "markdown",
   "id": "b99b5975-a290-4232-be53-e56db409ce22",
   "metadata": {},
   "source": [
    "# Topic Label Cleaning\n",
    "Cleaning labels assigned by hand."
   ]
  },
  {
   "cell_type": "markdown",
   "id": "78f00c19-9c80-4242-8795-826be968cf20",
   "metadata": {},
   "source": [
    "## Imports\n",
    "Add necessary imports."
   ]
  },
  {
   "cell_type": "code",
   "execution_count": null,
   "id": "d62a97f5-1731-4a2c-971c-e92b9497fb03",
   "metadata": {},
   "outputs": [],
   "source": [
    "import pandas as pd\n",
    "import json\n",
    "import ast"
   ]
  },
  {
   "cell_type": "markdown",
   "id": "866c22ed-df83-4631-9cd9-c9343b742371",
   "metadata": {},
   "source": [
    "## Load Topics"
   ]
  },
  {
   "cell_type": "code",
   "execution_count": null,
   "id": "f53c5cfb-8ebd-4387-a038-8d8f16389e39",
   "metadata": {},
   "outputs": [],
   "source": [
    "df = pd.read_csv(\"data/iptc_labeled_topics.csv\")"
   ]
  },
  {
   "cell_type": "markdown",
   "id": "bf96fdee-57c5-4566-89be-38bbe7de4d88",
   "metadata": {},
   "source": [
    "## Correct Hand-Labeling Mistakes"
   ]
  },
  {
   "cell_type": "code",
   "execution_count": null,
   "id": "c47fe3e5-73ea-4405-b62e-05bcfd261880",
   "metadata": {},
   "outputs": [],
   "source": [
    "topic_renames = {\n",
    "    \"activism\": \"political movement and association\",\n",
    "    \"american football\": \"American football\",\n",
    "    \"animals\": \"animal\",\n",
    "    \"assassination\": \"homicide\",\n",
    "    \"astrology\": \"arts, culture, entertainment and media\",\n",
    "    \"athletes\": \"sport\",\n",
    "    \"audio\": \"radio\",\n",
    "    \"automotive industry\": \"automotive\",\n",
    "    \"baptist\": \"Baptist\",\n",
    "    \"barbershop\": \"personal service\",\n",
    "    \"bible\": \"Bible\",\n",
    "    \"blackout\": \"disaster\",\n",
    "    \"body\": \"health\",\n",
    "    \"buddhism\": \"Buddhism\",\n",
    "    \"candy\": \"grocery\",\n",
    "    \"cannabis\": \"drug related crimes\",\n",
    "    \"child custody\": \"family\",\n",
    "    \"cholera\": \"communicable disease\",\n",
    "    \"christian orthodoxy\": \"Christian Orthodoxy\",\n",
    "    \"christianity\": \"Christianity\",\n",
    "    \"christmas\": \"Christmas\",\n",
    "    \"cinema\": \"movies\",\n",
    "    \"cinrma\": \"movies\",\n",
    "    \"civin rights\": \"civil rights\",\n",
    "    \"comic\": \"cartoon\",\n",
    "    \"compliance\": \"regulations\",\n",
    "    \"conspiracy\": \"crime\",\n",
    "    \"conspiracy theory\": \"disinformation and misinformation\",\n",
    "    \"country\": \"country music\",\n",
    "    \"dairy\": \"farms\",\n",
    "    \"dating and relationships\": \"Dating and Relationships\",\n",
    "    \"defamation\": \"civil law\",\n",
    "    \"delivery service\": \"shipping and postal service\",\n",
    "    \"dementia\": \"mental health\",\n",
    "    \"deodorant\": \"health and beauty product\",\n",
    "    \"detention\": \"prison\",\n",
    "    \"detention facility\": \"prison\",\n",
    "    \"disco music\": \"dance band music\",\n",
    "    \"documentary\": \"movies\",\n",
    "    \"electric vehicle\": \"automotive\",\n",
    "    \"emissions\": \"environmental pollution\",\n",
    "    \"emotions\": \"mental health\",\n",
    "    \"extinct species\": \"endangered species\",\n",
    "    \"eyewear\": \"health and beauty product\",\n",
    "    \"fantasy sports\": \"sport\",\n",
    "    \"farming\": \"farms\",\n",
    "    \"fire department\": \"emergency response\",\n",
    "    \"football\": \"American football\",\n",
    "    \"footwear\": \"clothing\",\n",
    "    \"forensic science\": \"science and technology\",\n",
    "    \"formula one\": \"Formula One\",\n",
    "    \"friendship\": \"family\",\n",
    "    \"generation\": \"demographics\",\n",
    "    \"governor\": \"public officials\",\n",
    "    \"halloween\": \"Halloween\",\n",
    "    \"hanukkah\": \"Hanukkah\",\n",
    "    \"harassment\": \"sex crime\",\n",
    "    \"hasidism\": \"Hasidism\",\n",
    "    \"health research\": \"medical research\",\n",
    "    \"heritage\": \"monument and heritage site\",\n",
    "    \"hiv and aids\": \"HIV and AIDS\",\n",
    "    \"holiday\": \"public holiday\",\n",
    "    \"horror movies\": \"movies\",\n",
    "    \"hospitality\": \"hotel and accommodation\",\n",
    "    \"identity theft\": \"cyber crime\",\n",
    "    \"immunity\": \"vaccine\",\n",
    "    \"individualism\": \"society\",\n",
    "    \"indy racing\": \"Indy Racing\",\n",
    "    \"internet\": \"online media outlet\",\n",
    "    \"journalist\": \"news media\",\n",
    "    \"judaism\": \"Judaism\",\n",
    "    \"jury\": \"court\",\n",
    "    \"labour strike\": \"labor strike\",\n",
    "    \"lawsuit\": \"litigation\",\n",
    "    \"lgbtq\": \"LGBTQ\",\n",
    "    \"libel\": \"civil law\",\n",
    "    \"medicaid\": \"healthcare policy\",\n",
    "    \"medicare\": \"healthcare policy\",\n",
    "    \"mental health and disorder\": \"mental health\",\n",
    "    \"methodist\": \"Methodist\",\n",
    "    \"midsummer\": \"Midsummer\",\n",
    "    \"military\": \"armed forces\",\n",
    "    \"mormonism\": \"Mormonism\",\n",
    "    \"murder\": \"homicide\",\n",
    "    \"naming\": \"name ceremony\",\n",
    "    \"non-governmental organisation (ngo)\": \"non-governmental organisation (NGO)\",\n",
    "    \"nutrition\": \"diet\",\n",
    "    \"oligarchy\": \"dictatorship\",\n",
    "    \"olympic games\": \"Olympic Games\",\n",
    "    \"organ transplant\": \"health treatment and procedure\",\n",
    "    \"paralympic games\": \"Paralympic Games\",\n",
    "    \"paranormal phenomena\": \"arts, culture, entertainment and media\",\n",
    "    \"planet\": \"nature\",\n",
    "    \"plant\": \"flowers and plants\",\n",
    "    \"pregnancy\": \"pregnancy and childbirth\",\n",
    "    \"promotion\": \"advertising\",\n",
    "    \"racial discrimination\": \"racism\",\n",
    "    \"ramadan\": \"Ramadan\",\n",
    "    \"rape\": \"sex crime\",\n",
    "    \"recipes\": \"cooking and baking\",\n",
    "    \"river\": \"rivers\",\n",
    "    \"robbbery and theft\": \"robbery and theft\",\n",
    "    \"sanitation\": \"health\",\n",
    "    \"senator\": \"public officials\",\n",
    "    \"sentiment\": \"mental health\",\n",
    "    \"sexual behaviour\": \"sexual behavior\",\n",
    "    \"sleep and health\": \"health\",\n",
    "    \"snack food\": \"grocery\",\n",
    "    \"species\": \"animal\",\n",
    "    \"sports betting\": \"gaming and lottery\",\n",
    "    \"sports broadcasting\": \"television industry\",\n",
    "    \"sweepstakes\": \"gaming and lottery\",\n",
    "    \"taekwon-do\": \"Taekwon-Do\",\n",
    "    \"tariffs\": \"tariff\",\n",
    "    \"technology\": \"science and technology\",\n",
    "    \"territory\": \"border dispute\",\n",
    "    \"theatre\": \"theater\",\n",
    "    \"ticketing\": \"advertising\",\n",
    "    \"twins\": \"family\",\n",
    "    \"village\": \"society\",\n",
    "    \"warfare\": \"conflict, war and peace\",\n",
    "    \"wealth\": \"economy\",\n",
    "    \"whale\": \"animal\",\n",
    "    \"writing\": \"literature\"\n",
    "}"
   ]
  },
  {
   "cell_type": "code",
   "execution_count": null,
   "id": "301c434c-b17b-4f88-9f33-b0869016912c",
   "metadata": {},
   "outputs": [],
   "source": [
    "df[\"iptc_news_topic\"] = df[\"iptc_news_topic\"].apply(lambda x: topic_renames[x.lower()] if x.lower() in topic_renames.keys() else x.lower())"
   ]
  },
  {
   "cell_type": "markdown",
   "id": "f6e79072-657b-48cd-b1ee-ce347ca018d4",
   "metadata": {},
   "source": [
    "## Including Broader Topics\n",
    "For each specific topic, include a list of itself and all topics it falls under (if applicable)."
   ]
  },
  {
   "cell_type": "code",
   "execution_count": null,
   "id": "9b458e45-b236-4905-bcd1-e0f88ce540ec",
   "metadata": {},
   "outputs": [],
   "source": [
    "# load our topic data schema\n",
    "with open(\"data/cptall-en-US.json\") as f:\n",
    "    d = json.load(f)[\"conceptSet\"]\n",
    "\n",
    "df_schema = pd.DataFrame(d)\n",
    "df_schema[\"prefLabel\"] = df_schema[\"prefLabel\"].apply(lambda x: x[\"en-US\"])\n",
    "df_schema[\"definition\"] = df_schema[\"definition\"].apply(lambda x: x[\"en-US\"] if \"en-US\" in x.keys() else None)"
   ]
  },
  {
   "cell_type": "code",
   "execution_count": null,
   "id": "3feb2047-6fd1-45ae-916a-e00758e52aeb",
   "metadata": {},
   "outputs": [],
   "source": [
    "# build label to q-code and q-code to label dictionaries\n",
    "qcode_to_label = dict(zip(df_schema['qcode'], df_schema['prefLabel']))\n",
    "label_to_qcode = dict(zip(df_schema['prefLabel'], df_schema['qcode']))\n",
    "\n",
    "# build a child to parent taxonomy dictionary\n",
    "child_to_parent = {}\n",
    "\n",
    "for idx, row in df_schema.iterrows():\n",
    "    parent_qcode = row[\"qcode\"]\n",
    "    if pd.notnull(row[\"narrower\"]):\n",
    "        # reading child qcodes as literals, not as strings\n",
    "        children = ast.literal_eval(row[\"narrower\"])\n",
    "        for child_qcode in children:\n",
    "            # getting qcode(s) for parent topics\n",
    "            child_to_parent[child_qcode] = parent_qcode"
   ]
  },
  {
   "cell_type": "code",
   "execution_count": null,
   "id": "04065c14-6ead-4336-8437-aa26d3f23773",
   "metadata": {},
   "outputs": [],
   "source": [
    "def get_all_broader_topics(qcode, child_to_parent):\n",
    "    hierarchy = [qcode] # start with just itslef\n",
    "    while qcode in child_to_parent: # while the topic still has a parent topic\n",
    "        qcode = child_to_parent[qcode] # move to the parent topic\n",
    "        hierarchy.append(qcode) # add the parent to the list, and search for parents again from the parent topic until there are no more parents\n",
    "    return hierarchy"
   ]
  },
  {
   "cell_type": "code",
   "execution_count": null,
   "id": "776e2475-6367-493f-b065-3df0e9b325a1",
   "metadata": {},
   "outputs": [],
   "source": [
    "# getting q-codes for all topic names\n",
    "df[\"iptc_news_qcode\"] = df[\"iptc_news_topic\"].map(label_to_qcode)\n",
    "\n",
    "# getting all broader topics as q-codes\n",
    "df[\"all_topics_qcode\"] = df[\"iptc_news_qcode\"].apply(lambda q: get_all_broader_topics(q, child_to_parent))\n",
    "\n",
    "# function to convert these q-codes to their actual labels\n",
    "def qcodes_to_labels(qcodes):\n",
    "    return [qcode_to_label.get(q, q) for q in qcodes]\n",
    "\n",
    "df[\"all_topics\"] = df[\"all_topics_qcode\"].apply(qcodes_to_labels)\n",
    "\n",
    "# dropping q-code columns now that we have our labels\n",
    "df_all_labels = df.drop([\"iptc_news_qcode\",\t\"all_topics_qcode\"], axis=1)"
   ]
  },
  {
   "cell_type": "markdown",
   "id": "d8851511-ae09-4c83-8976-3dcfaaca0952",
   "metadata": {},
   "source": [
    "## Export"
   ]
  },
  {
   "cell_type": "code",
   "execution_count": null,
   "id": "d65635d3-9e97-4329-9c81-c78e260fcce1",
   "metadata": {},
   "outputs": [],
   "source": [
    "df_all_labels.to_csv(\"data/cleaned_topic_labels.csv\", index=False)"
   ]
  }
 ],
 "metadata": {
  "kernelspec": {
   "display_name": "Python 3 (ipykernel)",
   "language": "python",
   "name": "python3"
  },
  "language_info": {
   "codemirror_mode": {
    "name": "ipython",
    "version": 3
   },
   "file_extension": ".py",
   "mimetype": "text/x-python",
   "name": "python",
   "nbconvert_exporter": "python",
   "pygments_lexer": "ipython3",
   "version": "3.12.7"
  }
 },
 "nbformat": 4,
 "nbformat_minor": 5
}
