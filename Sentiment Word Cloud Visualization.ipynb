{
 "cells": [
  {
   "cell_type": "markdown",
   "id": "b6fffedd-2c4f-4b79-90ec-0d5b08bf74d7",
   "metadata": {},
   "source": [
    "# Sentiment Word Cloud Visualization"
   ]
  },
  {
   "cell_type": "markdown",
   "id": "6c843d16-047d-4006-b0b2-6d58b0b6f14d",
   "metadata": {},
   "source": [
    "## Imports\n",
    "Add necessary imports."
   ]
  },
  {
   "cell_type": "code",
   "execution_count": 1,
   "id": "c68af0ea-8cf1-4488-bf7e-a3fd1dbc41a1",
   "metadata": {},
   "outputs": [],
   "source": [
    "import pandas as pd\n",
    "import matplotlib\n",
    "from matplotlib import pyplot as plt\n",
    "from wordcloud import WordCloud"
   ]
  },
  {
   "cell_type": "markdown",
   "id": "e3465e38-dc93-4e41-97be-7edd7060e761",
   "metadata": {},
   "source": [
    "## Data Loading"
   ]
  },
  {
   "cell_type": "code",
   "execution_count": null,
   "id": "09eaec83-37b2-4117-b230-0483c3919948",
   "metadata": {},
   "outputs": [],
   "source": [
    "topwords_df = pd.read_parquet(\"data/topwords_by_topic.parquet\")\n",
    "avg_sentiment = pd.read_csv(\"data/avg_sentiment_by_source_topic.csv\")"
   ]
  },
  {
   "cell_type": "markdown",
   "id": "5aa8a929-38b5-41b0-a82f-092478065aa4",
   "metadata": {},
   "source": [
    "## Cloud Time\n",
    "Generate word clouds displaying top 10 words by TF-IDF."
   ]
  },
  {
   "cell_type": "code",
   "execution_count": null,
   "id": "50a817ea-76d3-4873-bf35-eb0e257f0181",
   "metadata": {},
   "outputs": [],
   "source": [
    "def get_topwords_and_sentiments(source_type, source_name, topic):\n",
    "    # get top words data for a specific source-type, source-name, and topic\n",
    "    row = topwords_df[\n",
    "        (topwords_df[\"source_type\"] == source_type) &\n",
    "        (topwords_df[\"source_name\"] == source_name) &\n",
    "        (topwords_df[\"topic\"] == topic)]\n",
    "    if row.empty:\n",
    "        return None, None, None\n",
    "\n",
    "    # get top words of the row\n",
    "    words = row.iloc[0][\"top_words\"]\n",
    "\n",
    "    # get average sentiment data\n",
    "    sent_row = avg_sentiment[\n",
    "        (avg_sentiment[\"source_type\"] == source_type) &\n",
    "        (avg_sentiment[\"source_name\"] == source_name) &\n",
    "        (avg_sentiment[\"topic\"] == topic)]\n",
    "    if sent_row.empty:\n",
    "        return words, None, None\n",
    "\n",
    "    # now get the raw average sentument and quantile scaled sentiment\n",
    "    raw_sent = sent_row.iloc[0][\"avg_sentiment_score\"]\n",
    "    quantile_sentiment_scaled = sent_row.iloc[0][\"quantile_sentiment_scaled\"]\n",
    "    \n",
    "    return words, raw_sent, quantile_sentiment_scaled"
   ]
  },
  {
   "cell_type": "code",
   "execution_count": null,
   "id": "2f9461ae-6e19-4bf9-a98d-d984bedbf91e",
   "metadata": {},
   "outputs": [],
   "source": [
    "def plot_wordcloud_for_source_topic_colored(source_type, source_name, topic):\n",
    "    # get words and sentiment information for the topic\n",
    "    words, raw_sent, color_value = get_topwords_and_sentiments(source_type, source_name, topic)\n",
    "\n",
    "    # exit if none\n",
    "    if words is None:\n",
    "        print(\"No data for this combination.\")\n",
    "        return\n",
    "\n",
    "    # dict for frequency mapping\n",
    "    word_freq = {w: 1 for w in words}\n",
    "\n",
    "    # colormap to color the words by sentiment\n",
    "    cmap = matplotlib.cm.RdYlGn\n",
    "\n",
    "    # function maps sentiment value to a color string\n",
    "    def color_func(*args, **kwargs):\n",
    "        r, g, b, _ = cmap(color_value)\n",
    "        return f\"rgb({int(r*255)},{int(g*255)},{int(b*255)})\"\n",
    "\n",
    "    # build and color word cloud\n",
    "    wc = WordCloud(width=600, height=300, background_color=\"white\").generate_from_frequencies(word_freq)\n",
    "\n",
    "    plt.figure(figsize=(10, 6))\n",
    "    plt.imshow(wc.recolor(color_func=color_func), interpolation=\"bilinear\")\n",
    "    plt.axis(\"off\")\n",
    "\n",
    "    # label chart\n",
    "    plt.title(\n",
    "        f\"{source_name} -- {topic}\\\\n\"\n",
    "        f\"Average Sentiment: {raw_sent:+.2f}\", fontsize=16\n",
    "    )\n",
    "    plt.show()"
   ]
  },
  {
   "cell_type": "code",
   "execution_count": null,
   "id": "bf83a417-a511-42e9-8b44-478842936f66",
   "metadata": {},
   "outputs": [],
   "source": [
    "# example\n",
    "plot_wordcloud_for_source_topic_colored(\"news\", \"NPR\", \"topic_economy,_business_and_finance\")"
   ]
  }
 ],
 "metadata": {
  "kernelspec": {
   "display_name": "Python 3 (ipykernel)",
   "language": "python",
   "name": "python3"
  },
  "language_info": {
   "codemirror_mode": {
    "name": "ipython",
    "version": 3
   },
   "file_extension": ".py",
   "mimetype": "text/x-python",
   "name": "python",
   "nbconvert_exporter": "python",
   "pygments_lexer": "ipython3",
   "version": "3.12.7"
  }
 },
 "nbformat": 4,
 "nbformat_minor": 5
}
