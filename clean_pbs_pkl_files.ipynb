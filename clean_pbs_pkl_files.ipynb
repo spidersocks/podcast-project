{
 "cells": [
  {
   "cell_type": "code",
   "execution_count": 2,
   "id": "d7a63cf9",
   "metadata": {},
   "outputs": [],
   "source": [
    "import pandas as pd\n",
    "import glob\n",
    "import pickle\n",
    "import os"
   ]
  },
  {
   "cell_type": "code",
   "execution_count": null,
   "id": "83012025",
   "metadata": {},
   "outputs": [
    {
     "name": "stdout",
     "output_type": "stream",
     "text": [
      "Found 7 pickle files.\n"
     ]
    }
   ],
   "source": [
    "directory = \"data/article data/PBS\"\n",
    "pickle_files = glob.glob(os.path.join(directory, \"*.pkl\"))\n",
    "\n",
    "print(f\"Found {len(pickle_files)} pickle files.\")"
   ]
  },
  {
   "cell_type": "code",
   "execution_count": 5,
   "id": "6b4dd6c5",
   "metadata": {},
   "outputs": [
    {
     "name": "stdout",
     "output_type": "stream",
     "text": [
      "Combined dataframe has 9634 rows before removing duplicates\n",
      "Combined dataframe has 8231 rows after removing duplicates\n",
      "Saved data to /Users/chelseasimpson/SIADS652/Capstone/News Scraper/PBS Article Data/combined_pbs_news.pkl\n"
     ]
    }
   ],
   "source": [
    "all_dfs = []\n",
    "file_sources = [] \n",
    "\n",
    "for file in pickle_files:\n",
    "    try:\n",
    "        df = pd.read_pickle(file)\n",
    "        df['source'] = os.path.basename(file).split('.')[0]\n",
    "        all_dfs.append(df)\n",
    "        file_sources.append(os.path.basename(file).split('.')[0])\n",
    "    except Exception as e:\n",
    "        print(f\"Error reading {file}: {e}\")\n",
    "\n",
    "if all_dfs:\n",
    "    combined_df = pd.concat(all_dfs, ignore_index=True)\n",
    "    print(f\"Combined dataframe has {len(combined_df)} rows before removing duplicates\")\n",
    "    combined_df.drop_duplicates(subset=['title','link'], keep='first', inplace=True)    \n",
    "    print(f\"Combined dataframe has {len(combined_df)} rows after removing duplicates\")\n",
    "    \n",
    "    output_path = os.path.join(directory, 'combined_pbs_news.pkl')\n",
    "    combined_df.to_pickle(output_path)\n",
    "    print(f\"Saved data to {output_path}\")\n",
    "    \n",
    "\n",
    "    "
   ]
  },
  {
   "cell_type": "code",
   "execution_count": 6,
   "id": "d2ed6df8",
   "metadata": {},
   "outputs": [
    {
     "name": "stdout",
     "output_type": "stream",
     "text": [
      "                                               title  \\\n",
      "0  Musk says he’s formed the America Party. Here’...   \n",
      "1  Man killed after using assault rifle to shoot ...   \n",
      "2  Trump will visit Texas to tour flood-devastate...   \n",
      "3  White House blasts idea that Trump’s cuts cont...   \n",
      "4  Debate erupts over weather forecasts for deadl...   \n",
      "\n",
      "                                                link    date  \\\n",
      "0  https://www.pbs.org/newshour/politics/musk-say...  jul 07   \n",
      "1  https://www.pbs.org/newshour/nation/man-killed...  jul 07   \n",
      "2  https://www.pbs.org/newshour/politics/trump-wi...  jul 07   \n",
      "3  https://www.pbs.org/newshour/politics/white-ho...  jul 07   \n",
      "4  https://www.pbs.org/newshour/nation/debate-eru...  jul 07   \n",
      "\n",
      "                                             content                 source  \n",
      "0  [Elon Musk has said that he’s formed a new pol...  PBS_politics_articles  \n",
      "1  [McALLEN, Texas (AP) — A man with an assault r...  PBS_politics_articles  \n",
      "2  [White House press secretary Karoline Leavitts...  PBS_politics_articles  \n",
      "3  [White House press secretary Karoline Leavitt ...  PBS_politics_articles  \n",
      "4  [WASHINGTON (AP) — Former federal officials an...  PBS_politics_articles  \n"
     ]
    }
   ],
   "source": [
    "print(combined_df.head())"
   ]
  }
 ],
 "metadata": {
  "kernelspec": {
   "display_name": "Python 3 (ipykernel)",
   "language": "python",
   "name": "python3"
  },
  "language_info": {
   "codemirror_mode": {
    "name": "ipython",
    "version": 3
   },
   "file_extension": ".py",
   "mimetype": "text/x-python",
   "name": "python",
   "nbconvert_exporter": "python",
   "pygments_lexer": "ipython3",
   "version": "3.11.4"
  }
 },
 "nbformat": 4,
 "nbformat_minor": 5
}
