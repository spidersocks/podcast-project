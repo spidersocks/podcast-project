{
 "cells": [
  {
   "cell_type": "markdown",
   "id": "acb1ba6f-9390-47be-a09b-6792cefc2cb1",
   "metadata": {},
   "source": [
    "# Generate Chunk CSV with all Topics"
   ]
  },
  {
   "cell_type": "markdown",
   "id": "d19ad6e4-2c2d-4bf3-9f79-6e342305721b",
   "metadata": {},
   "source": [
    "## Imports \n",
    "Add necessary imports."
   ]
  },
  {
   "cell_type": "code",
   "execution_count": null,
   "id": "67a17316-2c2c-4239-b7ae-65e997a0b0c6",
   "metadata": {},
   "outputs": [],
   "source": [
    "import pandas as pd\n",
    "import re"
   ]
  },
  {
   "cell_type": "markdown",
   "id": "5ae632c0-e06e-4141-a5b9-f91830b08c54",
   "metadata": {},
   "source": [
    "## Loading and Preprocessing"
   ]
  },
  {
   "cell_type": "code",
   "execution_count": null,
   "id": "afbb8278-c230-4db5-a441-84ef6a9f98f1",
   "metadata": {},
   "outputs": [],
   "source": [
    "# loading sentiment chunk dataframe\n",
    "sentiment_df = pd.read_csv(\"data/sentiment_analysis_textblob.csv\")"
   ]
  },
  {
   "cell_type": "code",
   "execution_count": null,
   "id": "4c6a48ca-93d5-4501-a2d9-b40daca99b55",
   "metadata": {},
   "outputs": [],
   "source": [
    "# loading iptc topics\n",
    "iptc_topics = pd.read_csv(\"data/cleaned_topic_labels.csv\")\n",
    "iptc_topics = iptc_topics.rename(columns={\"Topic\":\"topic\"})"
   ]
  },
  {
   "cell_type": "code",
   "execution_count": null,
   "id": "06f09e2a-5980-477c-8e42-a548cfedea59",
   "metadata": {},
   "outputs": [],
   "source": [
    "# loading special topic dataframe\n",
    "special_topics = pd.read_csv(\"data/chunks_for_stance_detection.csv\")\n",
    "sparse_cols = [col for col in special_topics.columns if col.startswith(\"topic_\")]\n",
    "# encoding boolean values sparsely for memory saving\n",
    "special_topics[sparse_cols] = special_topics[sparse_cols].astype(pd.SparseDtype(\"bool\", fill_value=False))"
   ]
  },
  {
   "cell_type": "code",
   "execution_count": null,
   "id": "e684a7e6-b6ac-4236-b013-7137aed9650f",
   "metadata": {},
   "outputs": [],
   "source": [
    "# getting only news-related iptc topics\n",
    "topics = iptc_topics[\"iptc_news_topic\"].unique()\n",
    "non_news = [\"human interest\", \"lifestyle and leisure\", \"arts, culture, entertainment and media\", \"sport\"]\n",
    "non_news_full = iptc_topics.apply(lambda x: x[\"iptc_news_topic\"] if any(item in x[\"all_topics\"] for item in non_news) else None, axis=1).unique()\n",
    "news_topics = list(set(topics) - set(non_news_full))"
   ]
  },
  {
   "cell_type": "code",
   "execution_count": null,
   "id": "19b4139e-e262-4358-bd74-765bd6c83983",
   "metadata": {},
   "outputs": [],
   "source": [
    "# one hot encoding iptc news topics\n",
    "topic_dict = {\n",
    "    f\"topic_{topic.replace(\" \", \"_\")}\": iptc_topics[\"all_topics\"].astype(str).str.contains(\n",
    "        rf\"\\b{re.escape(topic)}\\b\", regex=True, na=False\n",
    "    )\n",
    "    for topic in news_topics\n",
    "}\n",
    "\n",
    "topic_df = pd.DataFrame(topic_dict, index=iptc_topics.index).astype(pd.SparseDtype(\"bool\", fill_value=False))\n",
    "\n",
    "iptc_topics = pd.concat([iptc_topics, topic_df], axis=1)"
   ]
  },
  {
   "cell_type": "markdown",
   "id": "5449137e-a445-4a55-901e-fa150e57ade1",
   "metadata": {},
   "source": [
    "## Merging into Big DataFrame"
   ]
  },
  {
   "cell_type": "code",
   "execution_count": null,
   "id": "f615e213-2293-41ca-968f-8f83601c3141",
   "metadata": {},
   "outputs": [],
   "source": [
    "# merging iptc topics onto chunk data\n",
    "sentiment_df = sentiment_df.merge(\n",
    "    iptc_topics[[\"topic\"] + [x for x in iptc_topics.columns if \"topic_\" in x]],\n",
    "    on=\"topic\",\n",
    "    how=\"left\"\n",
    ")\n",
    "\n",
    "# merging special topics onto chunk data\n",
    "sentiment_df = sentiment_df.merge(\n",
    "    special_topics[[x for x in special_topics.columns if (\"topic_\" in x) and x not in iptc_topics.columns]],\n",
    "    right_index=True,\n",
    "    left_index=True,\n",
    "    how=\"left\"\n",
    ")"
   ]
  },
  {
   "cell_type": "code",
   "execution_count": null,
   "id": "6aef5948-a18c-4e9b-ab27-1838043e826f",
   "metadata": {},
   "outputs": [],
   "source": [
    "sentiment_df.head()"
   ]
  },
  {
   "cell_type": "markdown",
   "id": "9d39b192-9af1-422f-b576-05a52cd3e45f",
   "metadata": {},
   "source": [
    "## Export"
   ]
  },
  {
   "cell_type": "code",
   "execution_count": null,
   "id": "de43062e-b3d9-4a02-9ac2-fd111def3150",
   "metadata": {},
   "outputs": [],
   "source": [
    "sentiment_df.to_csv(\"data/chunks_w_all_topics.csv\", index=False)"
   ]
  }
 ],
 "metadata": {
  "kernelspec": {
   "display_name": "Python 3 (ipykernel)",
   "language": "python",
   "name": "python3"
  },
  "language_info": {
   "codemirror_mode": {
    "name": "ipython",
    "version": 3
   },
   "file_extension": ".py",
   "mimetype": "text/x-python",
   "name": "python",
   "nbconvert_exporter": "python",
   "pygments_lexer": "ipython3",
   "version": "3.12.7"
  }
 },
 "nbformat": 4,
 "nbformat_minor": 5
}
