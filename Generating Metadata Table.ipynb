{
 "cells": [
  {
   "cell_type": "markdown",
   "id": "af6009f0-6d67-4536-a487-50a84c12e761",
   "metadata": {},
   "source": [
    "# Podcast Metadata\n",
    "This notebook contains the code used to generate a metadata table for each podcast transcript in our data. This will be especially useful for associating podcasts with their publish date to explore temporal dynamics."
   ]
  },
  {
   "cell_type": "markdown",
   "id": "27a10ae3-443d-4f84-ba12-a23a86a00693",
   "metadata": {},
   "source": [
    "## Imports\n",
    "All necessary imports."
   ]
  },
  {
   "cell_type": "code",
   "execution_count": null,
   "id": "9e6472dd-4bc2-493f-9206-694efa25f3d6",
   "metadata": {},
   "outputs": [],
   "source": [
    "import os # file haldling\n",
    "import re # parsing dates\n",
    "from datetime import datetime, timedelta # parsing dates\n",
    "import glob # file handling\n",
    "import pandas as pd # metadata table construction\n",
    "from collections import defaultdict"
   ]
  },
  {
   "cell_type": "markdown",
   "id": "107e15a4-92a4-4e0e-b0f7-1af4ef510383",
   "metadata": {},
   "source": [
    "## Parsing Dates\n",
    "Date tags in filenames are in a slightly jumbled format. Turning these into DateTime objects."
   ]
  },
  {
   "cell_type": "code",
   "execution_count": null,
   "id": "53c7c8f3-0ce3-41d2-b845-13e1ad2b406b",
   "metadata": {},
   "outputs": [],
   "source": [
    "def extract_tag(filepath):\n",
    "    \"\"\" Extract the date tag from a filename\"\"\"\n",
    "    base = os.path.basename(filepath)\n",
    "    # looking the the date in the parentheses at the end\n",
    "    match = re.search(r'\\((\\d+)\\)\\.txt$', base)\n",
    "    if not match:\n",
    "        return None, None\n",
    "    tag = match.group(1)\n",
    "    # returning the year if included\n",
    "    if len(tag) > 4 and tag[-4:].isdigit():\n",
    "        return tag[:-4], int(tag[-4:])\n",
    "    # else just returning the day/month\n",
    "    else:\n",
    "        return tag, None"
   ]
  },
  {
   "cell_type": "code",
   "execution_count": null,
   "id": "bf76d979-c067-4392-98a8-2c82e93b750c",
   "metadata": {},
   "outputs": [],
   "source": [
    "def generate_all_possible_dates(years_back=2, most_recent=datetime(2025,7,1)):\n",
    "    \"Generate all possible (tag, date) pairs for the last N years.\"\n",
    "    dates = []\n",
    "    today = most_recent\n",
    "    start_date = today - timedelta(days=365*years_back)\n",
    "    dt = today\n",
    "    while dt > start_date:\n",
    "        tag = f\"{dt.month}{dt.day}\"\n",
    "        dates.append((tag, dt))\n",
    "        dt -= timedelta(days=1)\n",
    "    return dates"
   ]
  },
  {
   "cell_type": "markdown",
   "id": "c275f80f-bee6-4a9d-98ae-cb17c47cba24",
   "metadata": {},
   "source": [
    "## Creating Metadata Table\n",
    "\n",
    "The below code creates a csv that contains each transcript's filepath, podcast name, episode name, and release date. "
   ]
  },
  {
   "cell_type": "markdown",
   "id": "f3434b53-3287-4490-95cd-4190d57d21fc",
   "metadata": {},
   "source": [
    "### Helper Functions"
   ]
  },
  {
   "cell_type": "code",
   "execution_count": null,
   "id": "572a5ee7-d071-4c77-9fa1-8f5d7241bfcd",
   "metadata": {},
   "outputs": [],
   "source": [
    "def extract_podcast_name(path):\n",
    "    name = os.path.basename(os.path.dirname(path))\n",
    "    return name.replace(\"-\", \" \").title()\n",
    "\n",
    "def extract_episode_name(path):\n",
    "    base = os.path.basename(path)\n",
    "    base = os.path.splitext(base)[0]\n",
    "    clean_name = re.sub(r'\\s*\\([^)]*\\)$', '', base)\n",
    "    return clean_name\n",
    "\n",
    "def extract_date_from_filename(filepath):\n",
    "    return filename_to_date.get(os.path.relpath(filepath, root))"
   ]
  },
  {
   "cell_type": "markdown",
   "id": "da23428c-ac5d-42fe-a2c8-9323ca996087",
   "metadata": {},
   "source": [
    "### Generate Table"
   ]
  },
  {
   "cell_type": "code",
   "execution_count": null,
   "id": "e254c2b4-4420-4635-8f25-17538fa79392",
   "metadata": {},
   "outputs": [],
   "source": [
    "root = r\"C:\\Users\\sfont\\podcast-project\"\n",
    "directory = os.path.join(root, \"data\", \"podcasts\")\n",
    "pod_dirs = [x[0] for x in os.walk(directory)][1:]\n",
    "\n",
    "filename_to_date = dict()\n",
    "\n",
    "for pod in pod_dirs:\n",
    "    filenames = glob.glob(os.path.join(pod, \"*.txt\"), recursive=True)\n",
    "    filenames = sorted(filenames, key=os.path.getmtime, reverse=True)\n",
    "    tag_years = [extract_tag(fn) for fn in filenames]\n",
    "\n",
    "    all_possible_dates = generate_all_possible_dates(years_back=3, most_recent=datetime(2025,6,30))\n",
    "\n",
    "    tag_to_dates = defaultdict(list)\n",
    "    for tag, dt in all_possible_dates:\n",
    "        tag_to_dates[tag].append([dt, 0])\n",
    "\n",
    "    assigned_dates = []\n",
    "    for idx, (tag, year) in enumerate(tag_years):\n",
    "        found = False\n",
    "        if tag is None:\n",
    "            assigned_dates.append(None)\n",
    "            continue\n",
    "        if year is not None:\n",
    "            for i, (dt, used) in enumerate(tag_to_dates[tag]):\n",
    "                if dt.year == year:\n",
    "                    assigned_dates.append(dt)\n",
    "                    tag_to_dates[tag][i][1] += 1  \n",
    "                    found = True\n",
    "                    break\n",
    "        else:\n",
    "            if tag_to_dates[tag]:\n",
    "                dt, _ = tag_to_dates[tag][0]\n",
    "                assigned_dates.append(dt)\n",
    "                tag_to_dates[tag][0][1] += 1\n",
    "                found = True\n",
    "        if not found:\n",
    "            assigned_dates.append(None)\n",
    "            print(f\"Could not assign date for tag {tag}{year if year else ''} in file {filenames[idx]}\")\n",
    "\n",
    "    date_dict = {os.path.relpath(f, root): d for f, d in zip(filenames, assigned_dates)}\n",
    "    filename_to_date.update(date_dict)\n",
    "\n",
    "\n",
    "files = glob.glob(os.path.join(directory, \"*\", \"*.txt\"), recursive=True)\n",
    "metadata = []\n",
    "for file in files:\n",
    "    podcast_name = extract_podcast_name(file)\n",
    "    episode_name = extract_episode_name(file)\n",
    "    publish_date = filename_to_date.get(os.path.relpath(file, root))\n",
    "    metadata.append({\n",
    "        'filename': file,\n",
    "        'podcast_name': podcast_name,\n",
    "        'episode_title': episode_name,\n",
    "        'publish_date': publish_date,\n",
    "    })\n",
    "\n",
    "df = pd.DataFrame(metadata)"
   ]
  },
  {
   "cell_type": "markdown",
   "id": "78ed8631-cc4c-46ae-aaed-1fb11158a00e",
   "metadata": {},
   "source": [
    "### Export Table"
   ]
  },
  {
   "cell_type": "code",
   "execution_count": null,
   "id": "a5e091ec-f613-47ed-bd75-5830cb205362",
   "metadata": {},
   "outputs": [],
   "source": [
    "df.to_csv(\"all_podcasts_metadata.csv\", index=False)"
   ]
  }
 ],
 "metadata": {
  "kernelspec": {
   "display_name": "Python 3 (ipykernel)",
   "language": "python",
   "name": "python3"
  },
  "language_info": {
   "codemirror_mode": {
    "name": "ipython",
    "version": 3
   },
   "file_extension": ".py",
   "mimetype": "text/x-python",
   "name": "python",
   "nbconvert_exporter": "python",
   "pygments_lexer": "ipython3",
   "version": "3.12.7"
  }
 },
 "nbformat": 4,
 "nbformat_minor": 5
}
