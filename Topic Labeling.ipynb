{
 "cells": [
  {
   "cell_type": "markdown",
   "id": "02fa69aa-0060-4a71-9b12-bac6ded18017",
   "metadata": {},
   "source": [
    "# Topic Matching\n",
    "This notebook contains the code for labeling our unnamed topics."
   ]
  },
  {
   "cell_type": "markdown",
   "id": "3ca8c94b-71a6-45e0-b4d7-92195aa0d90f",
   "metadata": {},
   "source": [
    "## Imports\n",
    "Necessary imports."
   ]
  },
  {
   "cell_type": "code",
   "execution_count": null,
   "id": "2561b550-48ec-466e-b281-a2ff35bd11e7",
   "metadata": {},
   "outputs": [],
   "source": [
    "import pandas as pd # data manupulation\n",
    "from sentence_transformers import SentenceTransformer, util # embeddings\n",
    "from docx import Document # reading in Pew topics\n",
    "import torch # similarity matching\n",
    "import json # accessing IPTC topic schema"
   ]
  },
  {
   "cell_type": "markdown",
   "id": "b5c1fd81-0430-4da0-bb93-ff02b54d51b6",
   "metadata": {},
   "source": [
    "## Load Documents\n",
    "Load documents containing topic information and Pew research topics."
   ]
  },
  {
   "cell_type": "code",
   "execution_count": null,
   "id": "21e825bb-5e5d-41ea-9937-9e555b5d1a23",
   "metadata": {},
   "outputs": [],
   "source": [
    "with open(\"data/cptall-en-US.json\") as f:\n",
    "    d = json.load(f)[\"conceptSet\"]\n",
    "\n",
    "iptc_news_schema = pd.DataFrame(d)\n",
    "iptc_news_schema[\"prefLabel\"] = iptc_news_schema[\"prefLabel\"].apply(lambda x: x[\"en-US\"])\n",
    "iptc_news_schema[\"definition\"] = iptc_news_schema[\"definition\"].apply(lambda x: x[\"en-US\"] if \"en-US\" in x.keys() else None)\n",
    "\n",
    "iptc_news_topics = []\n",
    "\n",
    "for _, row in iptc_news_schema.iterrows():\n",
    "    topic = f\"{row[\"prefLabel\"].title()}: {row[\"definition\"]}\"\n",
    "    iptc_news_topics.append(topic)"
   ]
  },
  {
   "cell_type": "code",
   "execution_count": null,
   "id": "66b39697-6379-4e92-ab63-fa93a140abc9",
   "metadata": {},
   "outputs": [],
   "source": [
    "topic_info = pd.read_csv(\"data/topic_info.csv\")"
   ]
  },
  {
   "cell_type": "markdown",
   "id": "b6a9ddd4-8ac5-4869-855b-754b8db39c6f",
   "metadata": {},
   "source": [
    "## Similarity Sort\n",
    "Here, we match found topics to their most similar Pew topic.\n",
    "\n",
    "1. Embed pew topics and representative words from found topics using the same sentence transformer.\n",
    "2. Calculate cosine similarity between representative words and each pew topic.\n",
    "3. Match each found topic with its closest pew match.\n",
    "4. Sort by highest to lowest cosine similarity so best likely matches are at the top."
   ]
  },
  {
   "cell_type": "code",
   "execution_count": null,
   "id": "54493be1-9d08-4c9e-9989-1de3c2440151",
   "metadata": {},
   "outputs": [],
   "source": [
    "model = SentenceTransformer(\"all-MiniLM-L6-v2\")\n",
    "\n",
    "# encoding pew topics individually\n",
    "iptc_news_embeddings = model.encode(iptc_news_topics, convert_to_tensor=True)\n",
    "# encoding all of a found topic's most representative words\n",
    "topic_embeddings = model.encode(topic_info[\"Representation\"], convert_to_tensor=True)\n",
    "\n",
    "# calculating cosine similarities between representative topic words and pew topics\n",
    "similarities = util.cos_sim(topic_embeddings, iptc_news_embeddings)  # shape: (n_topics, n_pew_topics)\n",
    "\n",
    "# getting each topic's best pew match\n",
    "best_scores, best_idxs = torch.max(similarities, dim=1)\n",
    "\n",
    "# applying closest topic label as feature and its associated similarity score\n",
    "topic_info[\"iptc_news_topic\"] = [iptc_news_topics[idx].split(\":\")[0] for idx in best_idxs.tolist()]\n",
    "topic_info[\"similarity\"] = best_scores.tolist()\n",
    "\n",
    "# sorting best matches at the top\n",
    "topic_info = topic_info.sort_values(\"similarity\", ascending=False)"
   ]
  },
  {
   "cell_type": "code",
   "execution_count": null,
   "id": "a4f08ccc-b050-4e39-b548-960d86eccd65",
   "metadata": {},
   "outputs": [],
   "source": [
    "topic_info.head()"
   ]
  },
  {
   "cell_type": "markdown",
   "id": "d0ad4f85-41ce-4330-9af7-b990cfbd0954",
   "metadata": {},
   "source": [
    "## Exports\n",
    "Export labeled and sorted topics for hand review."
   ]
  },
  {
   "cell_type": "code",
   "execution_count": null,
   "id": "0c1b9695-1b11-4e91-a8f1-b12835b26a8f",
   "metadata": {},
   "outputs": [],
   "source": [
    "topic_info.to_csv(\"data/iptc_news_topic_info.csv\", index=False)"
   ]
  }
 ],
 "metadata": {
  "kernelspec": {
   "display_name": "Python 3 (ipykernel)",
   "language": "python",
   "name": "python3"
  },
  "language_info": {
   "codemirror_mode": {
    "name": "ipython",
    "version": 3
   },
   "file_extension": ".py",
   "mimetype": "text/x-python",
   "name": "python",
   "nbconvert_exporter": "python",
   "pygments_lexer": "ipython3",
   "version": "3.12.7"
  }
 },
 "nbformat": 4,
 "nbformat_minor": 5
}
