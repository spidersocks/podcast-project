{
 "cells": [
  {
   "cell_type": "code",
   "execution_count": 1,
   "id": "c88324b5",
   "metadata": {},
   "outputs": [],
   "source": [
    "import pandas as pd\n",
    "import glob\n",
    "import pickle\n",
    "import os"
   ]
  },
  {
   "cell_type": "code",
   "execution_count": null,
   "id": "97254ee7",
   "metadata": {},
   "outputs": [
    {
     "name": "stdout",
     "output_type": "stream",
     "text": [
      "Found 32 pickle files.\n"
     ]
    }
   ],
   "source": [
    "directory = \"data/article data/NPR\"\n",
    "pickle_files = glob.glob(os.path.join(directory, \"**/*.pkl\"), recursive=True)\n",
    "\n",
    "print(f\"Found {len(pickle_files)} pickle files.\")"
   ]
  },
  {
   "cell_type": "code",
   "execution_count": 5,
   "id": "c2324276",
   "metadata": {},
   "outputs": [
    {
     "name": "stdout",
     "output_type": "stream",
     "text": [
      "Combined dataframe has 12991 rows before removing duplicates\n",
      "Combined dataframe has 9224 rows after removing duplicates\n",
      "Saved data to /Users/chelseasimpson/SIADS652/Capstone/News Scraper/NPR Article Data/combined_npr_news.pkl\n"
     ]
    }
   ],
   "source": [
    "all_dfs = []\n",
    "file_sources = [] \n",
    "\n",
    "for file in pickle_files:\n",
    "    try:\n",
    "        df = pd.read_pickle(file)\n",
    "        df['source'] = os.path.basename(file).split('.')[0]\n",
    "        all_dfs.append(df)\n",
    "        file_sources.append(os.path.basename(file).split('.')[0])\n",
    "    except Exception as e:\n",
    "        print(f\"Error reading {file}: {e}\")\n",
    "\n",
    "if all_dfs:\n",
    "    combined_df = pd.concat(all_dfs, ignore_index=True)\n",
    "    print(f\"Combined dataframe has {len(combined_df)} rows before removing duplicates\")\n",
    "    combined_df.drop_duplicates(subset=['title','link'], keep='first', inplace=True)    \n",
    "    print(f\"Combined dataframe has {len(combined_df)} rows after removing duplicates\")\n",
    "    \n",
    "    output_path = os.path.join(directory, 'combined_npr_news.pkl')\n",
    "    combined_df.to_pickle(output_path)\n",
    "    print(f\"Saved data to {output_path}\")"
   ]
  },
  {
   "cell_type": "code",
   "execution_count": 6,
   "id": "444c01e4",
   "metadata": {},
   "outputs": [
    {
     "name": "stdout",
     "output_type": "stream",
     "text": [
      "                                               title  \\\n",
      "0  Norovirus outbreaks are on the rise around the...   \n",
      "1  Cutting out alcohol for Dry January? These app...   \n",
      "2  Tuberculosis rates plunge when families living...   \n",
      "3  The U.S. surgeon general wants cancer warnings...   \n",
      "4    Photos: Hey, that monkey just stole my glasses!   \n",
      "\n",
      "                                                link        date  \\\n",
      "0  https://www.npr.org/sections/shots-health-news...  2025-01-01   \n",
      "1  https://www.npr.org/sections/shots-health-news...  2025-01-03   \n",
      "2  https://www.npr.org/sections/goats-and-soda/20...  2025-01-03   \n",
      "3  https://www.npr.org/2025/01/03/nx-s1-5245794/a...  2025-01-03   \n",
      "4  https://www.npr.org/sections/goats-and-soda/20...  2025-01-05   \n",
      "\n",
      "                                             content  \\\n",
      "0  [The Cunard cruise liner RMS Queen Mary 2 was ...   \n",
      "1  [People who take on the Dry January challenge ...   \n",
      "2  [A physician in Rio de Janeiro, Brazil, examin...   \n",
      "3  [Drinking alcohol raises the risk of developin...   \n",
      "4  [This monkey stole a pair of glasses (top left...   \n",
      "\n",
      "                          source  \n",
      "0  npr_health_articles01-01-2025  \n",
      "1  npr_health_articles01-01-2025  \n",
      "2  npr_health_articles01-01-2025  \n",
      "3  npr_health_articles01-01-2025  \n",
      "4  npr_health_articles01-01-2025  \n"
     ]
    }
   ],
   "source": [
    "print(combined_df.head())"
   ]
  }
 ],
 "metadata": {
  "kernelspec": {
   "display_name": "Python 3 (ipykernel)",
   "language": "python",
   "name": "python3"
  },
  "language_info": {
   "codemirror_mode": {
    "name": "ipython",
    "version": 3
   },
   "file_extension": ".py",
   "mimetype": "text/x-python",
   "name": "python",
   "nbconvert_exporter": "python",
   "pygments_lexer": "ipython3",
   "version": "3.11.4"
  }
 },
 "nbformat": 4,
 "nbformat_minor": 5
}
