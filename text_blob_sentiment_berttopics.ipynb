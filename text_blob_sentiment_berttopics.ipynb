{
 "cells": [
  {
   "cell_type": "markdown",
   "id": "b7d55ef5",
   "metadata": {},
   "source": [
    "## Install Packages and Load Data"
   ]
  },
  {
   "cell_type": "code",
   "execution_count": null,
   "id": "51a74a5f",
   "metadata": {},
   "outputs": [],
   "source": [
    "#%pip install textblob"
   ]
  },
  {
   "cell_type": "code",
   "execution_count": 2,
   "id": "9d072b3d",
   "metadata": {},
   "outputs": [],
   "source": [
    "from textblob import TextBlob\n",
    "import pandas as pd\n",
    "import os\n",
    "import glob\n",
    "from pathlib import Path\n",
    "from tqdm import tqdm\n",
    "tqdm.pandas()"
   ]
  },
  {
   "cell_type": "code",
   "execution_count": 4,
   "id": "b6098dbe",
   "metadata": {},
   "outputs": [],
   "source": [
    "df = pd.read_csv('data/bertopic_results.csv')"
   ]
  },
  {
   "cell_type": "markdown",
   "id": "bca3ad4a",
   "metadata": {},
   "source": [
    "## TextBlob Sentiment Analysis"
   ]
  },
  {
   "cell_type": "code",
   "execution_count": 6,
   "id": "f7c08a48",
   "metadata": {},
   "outputs": [],
   "source": [
    "def textblob_sentiment(text):\n",
    "\n",
    "    if pd.isna(text):\n",
    "            return 'neutral', 0.0, 0.0, 'low'\n",
    "        \n",
    "    text_str = str(text)\n",
    "        \n",
    "    if text_str == '' or text_str == 'nan':\n",
    "            return 'neutral', 0.0, 0.0, 'low'\n",
    "\n",
    "\n",
    "    \n",
    "    try:\n",
    "        blob = TextBlob(text)\n",
    "        polarity = blob.sentiment.polarity\n",
    "        subjectivity = blob.sentiment.subjectivity\n",
    "        \n",
    "        if polarity > 0.05:\n",
    "            sentiment = 'positive'\n",
    "        elif polarity < -0.05:\n",
    "            sentiment = 'negative'\n",
    "        else:\n",
    "            sentiment = 'neutral'\n",
    "        \n",
    "        if subjectivity >= 0.5:\n",
    "            subjectivity_level = 'high'\n",
    "        else:\n",
    "            subjectivity_level = 'low'\n",
    "            \n",
    "        return sentiment, polarity, subjectivity, subjectivity_level\n",
    "    \n",
    "    except Exception as e:\n",
    "        print(f\"Error processing text: {e}\")\n",
    "        return 'neutral', 0.0, 0.0, 'low'"
   ]
  },
  {
   "cell_type": "markdown",
   "id": "69cef9f2",
   "metadata": {},
   "source": [
    "## Add Sentiment, Sentiment Score, Subjectivity and Subjectivity Score to BERTopic Results DataFrame"
   ]
  },
  {
   "cell_type": "code",
   "execution_count": 7,
   "id": "d73de0f7",
   "metadata": {},
   "outputs": [
    {
     "name": "stderr",
     "output_type": "stream",
     "text": [
      "100%|█████████████████████████████████| 402415/402415 [04:27<00:00, 1507.15it/s]\n"
     ]
    }
   ],
   "source": [
    "df[['sentiment', 'sentiment_score', 'subjectivity_score', 'subjectivity']] = df['text'].progress_apply(\n",
    "    lambda x: pd.Series(textblob_sentiment(' '.join(x) if isinstance(x, list) else str(x))))\n"
   ]
  },
  {
   "cell_type": "code",
   "execution_count": 8,
   "id": "225c1a1d",
   "metadata": {},
   "outputs": [
    {
     "name": "stdout",
     "output_type": "stream",
     "text": [
      "                                            filename source_type  \\\n",
      "0  data/podcasts/armchair-expert-with-dax-shepard...     podcast   \n",
      "1  data/podcasts/armchair-expert-with-dax-shepard...     podcast   \n",
      "2  data/podcasts/armchair-expert-with-dax-shepard...     podcast   \n",
      "3  data/podcasts/armchair-expert-with-dax-shepard...     podcast   \n",
      "4  data/podcasts/armchair-expert-with-dax-shepard...     podcast   \n",
      "\n",
      "                        source_name  \\\n",
      "0  Armchair Expert With Dax Shepard   \n",
      "1  Armchair Expert With Dax Shepard   \n",
      "2  Armchair Expert With Dax Shepard   \n",
      "3  Armchair Expert With Dax Shepard   \n",
      "4  Armchair Expert With Dax Shepard   \n",
      "\n",
      "                                               title publish_date  chunk_id  \\\n",
      "0  Acquired Podcast on the NFL (with Ben Gilbert ...   2025-02-05         0   \n",
      "1  Acquired Podcast on the NFL (with Ben Gilbert ...   2025-02-05         1   \n",
      "2  Acquired Podcast on the NFL (with Ben Gilbert ...   2025-02-05         2   \n",
      "3  Acquired Podcast on the NFL (with Ben Gilbert ...   2025-02-05         3   \n",
      "4  Acquired Podcast on the NFL (with Ben Gilbert ...   2025-02-05         4   \n",
      "\n",
      "                                                text  topic  probability  \\\n",
      "0  Wondery Plus subscribers can listen to Armchai...     -1     0.000000   \n",
      "1  been in the Costco religion I know for years. ...    167     0.818274   \n",
      "2  great item. It's when you regret loaning it ou...    167     0.572303   \n",
      "3  don't have one. That's the whole point. I just...   1799     0.780156   \n",
      "4  any rate, it's really, really great to have yo...     -1     0.000000   \n",
      "\n",
      "  sentiment  sentiment_score  subjectivity_score subjectivity  \n",
      "0  positive         0.411622            0.666736         high  \n",
      "1  positive         0.268831            0.486039          low  \n",
      "2  positive         0.218583            0.568559         high  \n",
      "3  positive         0.101389            0.564352         high  \n",
      "4  positive         0.196059            0.551940         high  \n"
     ]
    }
   ],
   "source": [
    "print(df.head())"
   ]
  },
  {
   "cell_type": "code",
   "execution_count": 9,
   "id": "9f0a86d5",
   "metadata": {},
   "outputs": [
    {
     "name": "stdout",
     "output_type": "stream",
     "text": [
      "positive    289236\n",
      "neutral      84576\n",
      "negative     28603\n",
      "Name: sentiment, dtype: int64\n"
     ]
    }
   ],
   "source": [
    "textblob_sentiment = df['sentiment'].value_counts()\n",
    "\n",
    "print(textblob_sentiment)\n"
   ]
  },
  {
   "cell_type": "markdown",
   "id": "b05804dd",
   "metadata": {},
   "source": [
    "## Save DataFrame to CSV"
   ]
  },
  {
   "cell_type": "code",
   "execution_count": 10,
   "id": "c87666e2",
   "metadata": {},
   "outputs": [],
   "source": [
    "df.to_csv('data/sentiment_analysis_textblob.csv', index=False)"
   ]
  }
 ],
 "metadata": {
  "kernelspec": {
   "display_name": "Python 3 (ipykernel)",
   "language": "python",
   "name": "python3"
  },
  "language_info": {
   "codemirror_mode": {
    "name": "ipython",
    "version": 3
   },
   "file_extension": ".py",
   "mimetype": "text/x-python",
   "name": "python",
   "nbconvert_exporter": "python",
   "pygments_lexer": "ipython3",
   "version": "3.12.7"
  }
 },
 "nbformat": 4,
 "nbformat_minor": 5
}
