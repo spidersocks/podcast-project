{
 "cells": [
  {
   "cell_type": "markdown",
   "id": "799f1d22-d8e6-4f24-a712-f2114db2fce9",
   "metadata": {},
   "source": [
    "# Stance Visualization\n",
    "Here we visualizes the stances taken on different issues by source using a paired dot plot."
   ]
  },
  {
   "cell_type": "markdown",
   "id": "1d883df0-7f68-4d6d-9867-e6748a6bf814",
   "metadata": {},
   "source": [
    "## Imports\n",
    "Necessary imports."
   ]
  },
  {
   "cell_type": "code",
   "execution_count": null,
   "id": "f78d10f3-9e51-4752-a405-031592c56f61",
   "metadata": {},
   "outputs": [],
   "source": [
    "import numpy as np\n",
    "import pandas as pd\n",
    "import plotly.express as px\n",
    "import ipywidgets as widgets\n",
    "from IPython.display import display\n",
    "import plotly.graph_objects as go\n",
    "from scipy.stats import zscore"
   ]
  },
  {
   "cell_type": "markdown",
   "id": "346afad9-43b6-4a91-a3d3-0c057341d331",
   "metadata": {},
   "source": [
    "## Data Loading"
   ]
  },
  {
   "cell_type": "code",
   "execution_count": null,
   "id": "4b2cace7-29cd-491c-8fe9-ae8e464616a9",
   "metadata": {},
   "outputs": [],
   "source": [
    "df = pd.read_parquet(\"data/chunks_with_stances_final_repaired.parquet\")"
   ]
  },
  {
   "cell_type": "markdown",
   "id": "0d30ff4c-1dcc-4cb5-b8d7-f955a22fb250",
   "metadata": {},
   "source": [
    "## DataFrame Transformations"
   ]
  },
  {
   "cell_type": "code",
   "execution_count": null,
   "id": "d0c57a27-919c-4929-a5fd-8448ba9cfe79",
   "metadata": {},
   "outputs": [],
   "source": [
    "stance_cols = [col for col in df.columns if col.startswith(\"stance_\")]\n",
    "topic_names = [col.replace(\"stance_\", \"\") for col in stance_cols]\n",
    "\n",
    "# melting dataframe by source type\n",
    "melted = pd.melt(\n",
    "    df,\n",
    "    id_vars=[\"source_type\"],\n",
    "    value_vars=stance_cols,\n",
    "    var_name=\"stance_topic_col\",\n",
    "    value_name=\"stance_str\"\n",
    ")\n",
    "\n",
    "# extract topic name\n",
    "melted[\"topic\"] = melted[\"stance_topic_col\"].str.replace(\"stance_\", \"\")\n",
    "\n",
    "# remove empty stances\n",
    "mask = melted[\"stance_str\"].notnull() & (melted[\"stance_str\"] != \"\") & (melted[\"stance_str\"] != \"ERROR\")\n",
    "melted = melted[mask]\n",
    "\n",
    "# encode stances numerically\n",
    "stance_map = {\"FAVOR\": 1, \"NONE\": 0, \"AGAINST\": -1}\n",
    "melted[\"stance_score\"] = (\n",
    "    melted[\"stance_str\"].str.upper().map(stance_map)\n",
    ")\n",
    "\n",
    "# remove rows with invalid stance strings\n",
    "melted = melted[melted[\"stance_score\"].notnull()]"
   ]
  },
  {
   "cell_type": "markdown",
   "id": "6935eb0e-6ef1-4306-9ec2-97f14aaa0fa8",
   "metadata": {},
   "source": [
    "## Aggregation"
   ]
  },
  {
   "cell_type": "code",
   "execution_count": null,
   "id": "106e46ff-7de9-4b00-98b0-6a70f11b1649",
   "metadata": {},
   "outputs": [],
   "source": [
    "agg_counts = melted.groupby(['topic', 'source_type']).size().unstack()\n",
    "topics_with_both = agg_counts.dropna().index.tolist()\n",
    "melted = melted[melted['topic'].isin(topics_with_both)]"
   ]
  },
  {
   "cell_type": "markdown",
   "id": "2dd77549-bb2d-450a-bfbd-528fd82be1d5",
   "metadata": {},
   "source": [
    "## Normalization"
   ]
  },
  {
   "cell_type": "code",
   "execution_count": null,
   "id": "43ee0e45-57e4-4e6d-b937-5ec632d0dda1",
   "metadata": {},
   "outputs": [],
   "source": [
    "melted[\"stance_score_z\"] = zscore(melted[\"stance_score\"])\n",
    "\n",
    "# for each topic, each source_type: average z-score\n",
    "agg = melted.groupby([\"topic\", \"source_type\"])[\"stance_score_z\"].mean().reset_index()\n",
    "\n",
    "#export\n",
    "agg.to_csv(\"data/stance_z_agg.csv\", index=False)"
   ]
  },
  {
   "cell_type": "markdown",
   "id": "d88ca0f0-658e-4a4e-b306-75c711289fc9",
   "metadata": {},
   "source": [
    "## Comparing means"
   ]
  },
  {
   "cell_type": "code",
   "execution_count": null,
   "id": "c769d0f5-c32e-4f7b-842e-0c27dbe6ae3a",
   "metadata": {},
   "outputs": [],
   "source": [
    "agg = melted.groupby([\"topic\", \"source_type\"])[\"stance_score\"].mean().reset_index()"
   ]
  },
  {
   "cell_type": "code",
   "execution_count": null,
   "id": "d01120c6-9139-4b41-b2ae-84a9beaa3ee0",
   "metadata": {},
   "outputs": [],
   "source": [
    "pivot = agg.pivot(index=\"topic\", columns=\"source_type\", values=\"stance_score\")\n",
    "pivot = pivot.dropna()  # only topics with both\n",
    "pivot[\"diff\"] = pivot[\"podcast\"] - pivot[\"news\"]\n",
    "order = pivot.sort_values('diff', ascending=True).index.tolist()\n",
    "agg[\"topic\"] = pd.Categorical(agg[\"topic\"], categories=order, ordered=True)\n",
    "agg = agg.sort_values(\"topic\")"
   ]
  },
  {
   "cell_type": "markdown",
   "id": "ba06b4dc-13cc-4139-b2be-db1a15d0c78e",
   "metadata": {},
   "source": [
    "## Defining Broad Topic Categories"
   ]
  },
  {
   "cell_type": "code",
   "execution_count": null,
   "id": "6452cfb8-6f8b-4fb9-9b69-072362d0a5d6",
   "metadata": {},
   "outputs": [],
   "source": [
    "TOPIC_GROUPS = {\n",
    "    \"All\": [],\n",
    "    \"People\": [\n",
    "        \"alexandria_ocasio-cortez\", \"ali_khamenei\", \"benjamin_netanyahu\", \"bernie_sanders\",\n",
    "        \"bob_menendez\", \"caitlin_clark\", \"chuck_schumer\", \"claudia_sheinbaum\", \"diddy\", \"donald_trump\",\n",
    "        \"elon_musk\", \"jeff_bezos\", \"jeffrey_epstein\", \"joe_biden\", \"justin_trudeau\", \"kamala_harris\",\n",
    "        \"kanye_west\", \"karoline_leavitt\", \"kevin_mccarthy\", \"luigi_mangione\", \"mark_carney\", \"mark_zuckerberg\",\n",
    "        \"mike_johnson\", \"mitch_mcconnell\", \"nancy_pelosi\", \"pete_buttigieg\", \"pete_hegseth\", \"pope\",\n",
    "        \"robert_f._kennedy_jr\", \"ron_desantis\", \"sam_altman\", \"taylor_swift\", \"tim_cook\", \"tim_walz\",\n",
    "        \"vladimir_putin\", \"volodymyr_zelensky\", \"xi_jinping\"\n",
    "    ],\n",
    "    \"Countries\": [\n",
    "        \"canada\", \"china\", \"el_salvador\", \"india\", \"iran\", \"israel\", \"mexico\", \"pakistan\", \"russia\",\n",
    "        \"saudi_arabia\", \"taiwan\", \"united_kingdom\", \"united_states\"\n",
    "    ],\n",
    "    \"Political Issues\": [\n",
    "        \"abortion\", \"capital_punishment\", \"climate_change\", \"communism\", \"democratic_party\",\n",
    "        \"democratic_socialism\", \"euthanasia\",\n",
    "        \"foreign_aid\", \"immigration\", \"immigration\", \"military_service\", \"nuclear_power\",\n",
    "        \"police\", \"privacy\", \"prostitution\", \"racism\",\n",
    "        \"republican_party\", \"tariffs\", \"war\", \"welfare\"\n",
    "    ],\n",
    "}"
   ]
  },
  {
   "cell_type": "markdown",
   "id": "49a5958a-bb11-4520-8fc2-59bfadb3ee2d",
   "metadata": {},
   "source": [
    "## Plotting"
   ]
  },
  {
   "cell_type": "code",
   "execution_count": null,
   "id": "e46da677-9d5e-44dc-8862-e1bb91f9d46c",
   "metadata": {},
   "outputs": [],
   "source": [
    "def format_topic_label(topic):\n",
    "    # format labels properly\n",
    "    return topic.replace(\"_\", \" \").title()\n",
    "\n",
    "def plot_zscore_relative_stances(topics):\n",
    "    # standardize stance scores using z-scores\n",
    "    melted[\"stance_score_z\"] = zscore(melted[\"stance_score\"])\n",
    "\n",
    "    agg = (melted[melted[\"topic\"].isin(topics)].groupby([\"topic\", \"source_type\"])[\"stance_score_z\"].mean().reset_index())\n",
    "\n",
    "    # count number of source types per topic\n",
    "    source_counts = agg.groupby(\"topic\")[\"source_type\"].nunique()\n",
    "    topics_with_both = source_counts[source_counts == 2].index.tolist()\n",
    "\n",
    "    # keep only the topics that have both news and podcast coverage\n",
    "    agg = agg[agg[\"topic\"].isin(topics_with_both)]\n",
    "\n",
    "    # pivot where rows are topic, columns are source type, and values are z-scores\n",
    "    pivot = agg.pivot(index=\"topic\", columns=\"source_type\", values=\"stance_score_z\")\n",
    "    pivot = pivot.dropna()\n",
    "\n",
    "    # difference between podcast and news\n",
    "    pivot[\"diff\"] = pivot[\"podcast\"] - pivot[\"news\"]\n",
    "\n",
    "    # order topics by difference\n",
    "    order = pivot.sort_values(\"diff\", ascending=True).index.tolist()\n",
    "\n",
    "    # get x-values\n",
    "    news_x = pivot.loc[order, \"news\"].values\n",
    "    podcast_x = pivot.loc[order, \"podcast\"].values\n",
    "    diff = pivot.loc[order, \"diff\"].values\n",
    "    abs_diff = np.abs(diff)\n",
    "\n",
    "    # set colors for each source\n",
    "    podcast_color = np.array([251, 146, 60])\n",
    "    news_color = np.array([99, 102, 241])\n",
    "\n",
    "    # helper to implement line color intensity\n",
    "    def get_rgba(base_rgb, intensity):\n",
    "        base = np.array(base_rgb)\n",
    "        color = 0.25 * base + 0.75 * 255 * (1 - intensity) + base * intensity * 0.75\n",
    "        color = np.clip(color, 0, 255)\n",
    "        return f\"rgba({int(color[0])},{int(color[1])},{int(color[2])},{0.4 + 0.6*intensity:.2f})\"\n",
    "\n",
    "    # for scaling, we normalize absolute differences to show more variance in color\n",
    "    abs_diff_norm = abs_diff / abs_diff.max() if abs_diff.max() > 0 else abs_diff\n",
    "    line_colors = []\n",
    "    for d, n in zip(diff, abs_diff_norm):\n",
    "        # whichever source has the more positive difference, the line is that color\n",
    "        c = get_rgba(podcast_color, n) if d > 0 else get_rgba(news_color, n)\n",
    "        line_colors.append(c)\n",
    "\n",
    "    # formatting y-axis labels\n",
    "    formatted_order = [format_topic_label(t) for t in order]\n",
    "\n",
    "    # done!\n",
    "    fig = go.Figure()\n",
    "\n",
    "    # draw colored lines between sources\n",
    "    for i, topic in enumerate(order):\n",
    "        x0 = news_x[i]\n",
    "        x1 = podcast_x[i]\n",
    "        y = formatted_order[i]\n",
    "        fig.add_trace(go.Scatter(\n",
    "            x=[x0, x1], y=[y, y],\n",
    "            mode=\"lines\",\n",
    "            line=dict(color=line_colors[i], width=6),\n",
    "            showlegend=False,\n",
    "            hoverinfo=\"skip\"\n",
    "        ))\n",
    "\n",
    "    # format markers\n",
    "    fig.add_trace(go.Scatter(\n",
    "        x=news_x,\n",
    "        y=formatted_order,\n",
    "        mode=\"markers\",\n",
    "        name=\"news\",\n",
    "        marker=dict(color=\"#6366f1\", symbol=\"square\", size=13, line=dict(color=\"DarkSlateGrey\", width=1)),\n",
    "        hovertemplate=\"News<br>Relative stance (z-score): %{x:.2f}<br>Topic: %{y}<extra></extra>\"\n",
    "    ))\n",
    "    fig.add_trace(go.Scatter(\n",
    "        x=podcast_x,\n",
    "        y=formatted_order,\n",
    "        mode=\"markers\",\n",
    "        name=\"podcast\",\n",
    "        marker=dict(color=\"#fb923c\", symbol=\"circle\", size=13, line=dict(color=\"DarkSlateGrey\", width=1)),\n",
    "        hovertemplate=\"Podcast<br>Relative stance (z-score): %{x:.2f}<br>Topic: %{y}<extra></extra>\"\n",
    "    ))\n",
    "\n",
    "    fig.update_xaxes(showticklabels=False, showgrid=False, zeroline=False, title=None)\n",
    "    fig.update_yaxes(categoryorder=\"array\", categoryarray=formatted_order)\n",
    "\n",
    "    chart_height = 28 * len(order) + 120\n",
    "\n",
    "    fig.update_layout(\n",
    "        title=dict(\n",
    "            text=\"<span style='font-size:20px'><b>Relative Stance by Topic and Source Type</b></span>\"\n",
    "                 \"<br><span style='font-size:15px;'>Line color represents which medium is more favorable & size of the difference</span>\",\n",
    "            x=0.5,\n",
    "            y=0.95,\n",
    "            xanchor=\"center\",\n",
    "            yanchor=\"top\"\n",
    "        ),\n",
    "        yaxis_title=\"Topic\",\n",
    "        legend=dict(\n",
    "            orientation=\"h\", yanchor=\"bottom\", y=1.02, xanchor=\"right\", x=1, title=None\n",
    "        ),\n",
    "        template=\"plotly_white\",\n",
    "        height=chart_height,\n",
    "        margins=dict(l=150, r=120, t=110, b=40),\n",
    "        annotations=[]\n",
    "    )\n",
    "    fig.show()"
   ]
  },
  {
   "cell_type": "code",
   "execution_count": null,
   "id": "d5ea1397-addc-49f5-98bd-da09d5fb2980",
   "metadata": {},
   "outputs": [],
   "source": [
    "# usage:\n",
    "plot_zscore_relative_stances(TOPIC_GROUPS[\"People\"])"
   ]
  }
 ],
 "metadata": {
  "kernelspec": {
   "display_name": "Python 3 (ipykernel)",
   "language": "python",
   "name": "python3"
  },
  "language_info": {
   "codemirror_mode": {
    "name": "ipython",
    "version": 3
   },
   "file_extension": ".py",
   "mimetype": "text/x-python",
   "name": "python",
   "nbconvert_exporter": "python",
   "pygments_lexer": "ipython3",
   "version": "3.12.7"
  }
 },
 "nbformat": 4,
 "nbformat_minor": 5
}
